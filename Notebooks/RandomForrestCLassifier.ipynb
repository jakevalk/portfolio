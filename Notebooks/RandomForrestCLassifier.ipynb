{
 "cells": [
  {
   "cell_type": "markdown",
   "id": "3b5b9306",
   "metadata": {},
   "source": [
    "# Libraries\n",
    "\n",
    "Import your libraries"
   ]
  },
  {
   "cell_type": "code",
   "execution_count": 1,
   "id": "6767672b",
   "metadata": {},
   "outputs": [],
   "source": [
    "import numpy as np\n",
    "import pandas as pd\n",
    "import seaborn as sns\n",
    "import math\n",
    "import statistics as cal\n",
    "import matplotlib.pyplot as plt\n",
    "from sklearn.model_selection import train_test_split\n",
    "from sklearn.model_selection import GridSearchCV\n",
    "from sklearn.svm import SVC\n",
    "from sklearn.ensemble import RandomForestClassifier\n",
    "from sklearn.tree import DecisionTreeClassifier\n",
    "from sklearn.neighbors import KNeighborsClassifier\n",
    "from imblearn.over_sampling import RandomOverSampler\n",
    "from collections import Counter\n",
    "\n",
    "from sklearn.metrics import accuracy_score, f1_score, precision_score, recall_score, classification_report, plot_confusion_matrix, confusion_matrix"
   ]
  },
  {
   "cell_type": "markdown",
   "id": "1a9e9f42",
   "metadata": {},
   "source": [
    "# Importing Data\n",
    "\n",
    "Import the CSV file with Actions, Sum and Div as a Dataframe called df. Fill the empty values of Action with 0. \n",
    "Replace NaN values with 0. Delete first 100 rows. "
   ]
  },
  {
   "cell_type": "code",
   "execution_count": null,
   "id": "1e06fbe8",
   "metadata": {},
   "outputs": [],
   "source": []
  },
  {
   "cell_type": "markdown",
   "id": "9b053ddc",
   "metadata": {},
   "source": [
    "# Preparing Data\n",
    "\n",
    "Split the Dataframe in chunks van n/100 seconden. Combine to 1 dataframe. With Sum,Div and Action split into Train and Valid/Test. "
   ]
  },
  {
   "cell_type": "code",
   "execution_count": 2,
   "id": "bcca66e9",
   "metadata": {},
   "outputs": [],
   "source": [
    "def Dataloader(CsvFile, ChunkSize, ChunkOverlap, OperationList):\n",
    "#CsvFile = put in the filename(as string) example : matrix_player_15_game_2_quartersplit.csv\n",
    "#ChunkSize = put in the size you want the chunks to be (in seconds) example: 1\n",
    "#ChunkOverlap = the size you want the chunks to overlap (in seconds) example: 0.5\n",
    "#Operationlist = input dataframe of names with operations that u want to make changes to. example:\n",
    "                                #Operationlist = pd.DataFrame({'frAcc':['cal.mean'], 'wheelRotationalSpeedX':['cal.mea']})\n",
    "\n",
    "\n",
    "#load in csv file\n",
    "    df = pd.read_csv(CsvFile)\n",
    "\n",
    "    chunks = [df[i:i+ChunkSize] for i in range(0,df.shape[0],ChunkOverlap)]\n",
    "\n",
    "    frames = []\n",
    "\n",
    "    for chunk in chunks:\n",
    "        chunk = chunk.drop(columns=['Unnamed: 0'])\n",
    "        frames.append(chunk)\n",
    "\n",
    "        \n",
    "    df_end =[]\n",
    "    \n",
    "    for frame in frames:\n",
    "        if len(frame) == 100:\n",
    "            result = [] #Reset the result array\n",
    "            for column in list(frame.columns):\n",
    "        \n",
    "                if column in OperationList: #Check if column is in namelist\n",
    "            \n",
    "                    if OperationList[str(column)].values == 'cal.mean': #You can at more function if you want\n",
    "                        X = cal.mean(frame[str(column)].tolist()) #Calculate mean of all columns named in namelist with operation cal.mean\n",
    "            \n",
    "                    else: #If the given operations isn't cal.mean\n",
    "                        frame[str(column)] = [abs(ele) for ele in frame[str(column)]] #Get absolute value of all elements in list\n",
    "                        X = max(frame[str(column)].tolist()) #Get single max value from list \n",
    "       \n",
    "                else:\n",
    "                    frame[str(column)] = [abs(ele) for ele in frame[str(column)]] #Get absolute value of all elements in list\n",
    "                    X = max(frame[str(column)].tolist()) #Get single max value from list\n",
    "            \n",
    "                result.append(X) #Append results to list\n",
    "        \n",
    "            df_end.append(result) #Append all results into one big list\n",
    "    \n",
    "    df_end = pd.DataFrame(df_end, columns = list(frame.columns)) #Convert list to df\n",
    "    return(df_end)\n",
    "    \n"
   ]
  },
  {
   "cell_type": "code",
   "execution_count": 3,
   "id": "503caa28",
   "metadata": {},
   "outputs": [],
   "source": [
    "OperationList = [{ 'wheelRotationalSpeedX' : ['Cal.mean']}]\n",
    "df = Dataloader('matrix_Player_15_game_2_QuarterSplit.csv', 100, 50, OperationList)\n",
    "#print(Dataloader('matrix_Player_15_game_2_QuarterSplit.csv', 100, 50, OperationList))"
   ]
  },
  {
   "cell_type": "code",
   "execution_count": 4,
   "id": "3f043440",
   "metadata": {},
   "outputs": [
    {
     "data": {
      "text/html": [
       "<div>\n",
       "<style scoped>\n",
       "    .dataframe tbody tr th:only-of-type {\n",
       "        vertical-align: middle;\n",
       "    }\n",
       "\n",
       "    .dataframe tbody tr th {\n",
       "        vertical-align: top;\n",
       "    }\n",
       "\n",
       "    .dataframe thead th {\n",
       "        text-align: right;\n",
       "    }\n",
       "</style>\n",
       "<table border=\"1\" class=\"dataframe\">\n",
       "  <thead>\n",
       "    <tr style=\"text-align: right;\">\n",
       "      <th></th>\n",
       "      <th>frAcc</th>\n",
       "      <th>frRoAcc</th>\n",
       "      <th>frDispl</th>\n",
       "      <th>frRoAng</th>\n",
       "      <th>frSpeed</th>\n",
       "      <th>timeLine</th>\n",
       "      <th>frameRotationalSpeedX</th>\n",
       "      <th>frameRotationalSpeedY</th>\n",
       "      <th>frameRotationalSpeedZ</th>\n",
       "      <th>wheelRotationalSpeedX</th>\n",
       "      <th>wheelRotationalSpeedY</th>\n",
       "      <th>wheelRotationalSpeedZ</th>\n",
       "      <th>frRoSpeed</th>\n",
       "      <th>Sum_WheelX_FrameZ</th>\n",
       "      <th>Div_FrameZ_WheelX</th>\n",
       "      <th>Filt_WheelX</th>\n",
       "      <th>Filt_FrameZ</th>\n",
       "      <th>Collision</th>\n",
       "      <th>Quarter</th>\n",
       "    </tr>\n",
       "  </thead>\n",
       "  <tbody>\n",
       "    <tr>\n",
       "      <th>0</th>\n",
       "      <td>56.98200</td>\n",
       "      <td>2828.8</td>\n",
       "      <td>3394.9</td>\n",
       "      <td>88.04700</td>\n",
       "      <td>1.106100</td>\n",
       "      <td>3581.0</td>\n",
       "      <td>63.945</td>\n",
       "      <td>64.6600</td>\n",
       "      <td>80.7240</td>\n",
       "      <td>188.8800</td>\n",
       "      <td>61.9500</td>\n",
       "      <td>90.0980</td>\n",
       "      <td>3055.300</td>\n",
       "      <td>196.06200</td>\n",
       "      <td>324.758929</td>\n",
       "      <td>87.547693</td>\n",
       "      <td>63.582821</td>\n",
       "      <td>0</td>\n",
       "      <td>1</td>\n",
       "    </tr>\n",
       "    <tr>\n",
       "      <th>1</th>\n",
       "      <td>56.98200</td>\n",
       "      <td>2828.9</td>\n",
       "      <td>3410.8</td>\n",
       "      <td>164.91000</td>\n",
       "      <td>1.106100</td>\n",
       "      <td>3581.5</td>\n",
       "      <td>63.945</td>\n",
       "      <td>64.6600</td>\n",
       "      <td>165.3400</td>\n",
       "      <td>188.8800</td>\n",
       "      <td>86.1860</td>\n",
       "      <td>90.0980</td>\n",
       "      <td>3055.300</td>\n",
       "      <td>196.06200</td>\n",
       "      <td>76.200000</td>\n",
       "      <td>87.547693</td>\n",
       "      <td>73.345130</td>\n",
       "      <td>0</td>\n",
       "      <td>1</td>\n",
       "    </tr>\n",
       "    <tr>\n",
       "      <th>2</th>\n",
       "      <td>19.69000</td>\n",
       "      <td>2828.9</td>\n",
       "      <td>3410.8</td>\n",
       "      <td>228.56000</td>\n",
       "      <td>0.935400</td>\n",
       "      <td>3582.0</td>\n",
       "      <td>17.570</td>\n",
       "      <td>19.7400</td>\n",
       "      <td>228.7000</td>\n",
       "      <td>84.7310</td>\n",
       "      <td>193.7800</td>\n",
       "      <td>108.4800</td>\n",
       "      <td>2456.100</td>\n",
       "      <td>181.33500</td>\n",
       "      <td>1002.057084</td>\n",
       "      <td>65.140780</td>\n",
       "      <td>204.540434</td>\n",
       "      <td>0</td>\n",
       "      <td>1</td>\n",
       "    </tr>\n",
       "    <tr>\n",
       "      <th>3</th>\n",
       "      <td>22.80600</td>\n",
       "      <td>2828.8</td>\n",
       "      <td>3389.3</td>\n",
       "      <td>228.56000</td>\n",
       "      <td>1.196400</td>\n",
       "      <td>3582.5</td>\n",
       "      <td>18.984</td>\n",
       "      <td>19.7400</td>\n",
       "      <td>228.7000</td>\n",
       "      <td>113.6100</td>\n",
       "      <td>193.7800</td>\n",
       "      <td>108.4800</td>\n",
       "      <td>2456.100</td>\n",
       "      <td>218.52000</td>\n",
       "      <td>1002.057084</td>\n",
       "      <td>77.306432</td>\n",
       "      <td>204.540434</td>\n",
       "      <td>0</td>\n",
       "      <td>1</td>\n",
       "    </tr>\n",
       "    <tr>\n",
       "      <th>4</th>\n",
       "      <td>22.80600</td>\n",
       "      <td>2828.5</td>\n",
       "      <td>3312.7</td>\n",
       "      <td>106.98000</td>\n",
       "      <td>1.196400</td>\n",
       "      <td>3583.0</td>\n",
       "      <td>18.984</td>\n",
       "      <td>8.3300</td>\n",
       "      <td>107.7900</td>\n",
       "      <td>159.6700</td>\n",
       "      <td>86.9870</td>\n",
       "      <td>55.6290</td>\n",
       "      <td>1530.100</td>\n",
       "      <td>218.52000</td>\n",
       "      <td>434.736430</td>\n",
       "      <td>114.848074</td>\n",
       "      <td>204.182064</td>\n",
       "      <td>0</td>\n",
       "      <td>1</td>\n",
       "    </tr>\n",
       "    <tr>\n",
       "      <th>...</th>\n",
       "      <td>...</td>\n",
       "      <td>...</td>\n",
       "      <td>...</td>\n",
       "      <td>...</td>\n",
       "      <td>...</td>\n",
       "      <td>...</td>\n",
       "      <td>...</td>\n",
       "      <td>...</td>\n",
       "      <td>...</td>\n",
       "      <td>...</td>\n",
       "      <td>...</td>\n",
       "      <td>...</td>\n",
       "      <td>...</td>\n",
       "      <td>...</td>\n",
       "      <td>...</td>\n",
       "      <td>...</td>\n",
       "      <td>...</td>\n",
       "      <td>...</td>\n",
       "      <td>...</td>\n",
       "    </tr>\n",
       "    <tr>\n",
       "      <th>9056</th>\n",
       "      <td>0.70001</td>\n",
       "      <td>6556.8</td>\n",
       "      <td>1948.5</td>\n",
       "      <td>6.78380</td>\n",
       "      <td>0.072376</td>\n",
       "      <td>8602.0</td>\n",
       "      <td>2.380</td>\n",
       "      <td>1.5867</td>\n",
       "      <td>7.2022</td>\n",
       "      <td>5.6544</td>\n",
       "      <td>6.6500</td>\n",
       "      <td>5.1800</td>\n",
       "      <td>54.922</td>\n",
       "      <td>12.74700</td>\n",
       "      <td>6.545497</td>\n",
       "      <td>4.496939</td>\n",
       "      <td>8.456229</td>\n",
       "      <td>0</td>\n",
       "      <td>4</td>\n",
       "    </tr>\n",
       "    <tr>\n",
       "      <th>9057</th>\n",
       "      <td>0.40442</td>\n",
       "      <td>6556.8</td>\n",
       "      <td>1948.4</td>\n",
       "      <td>6.78380</td>\n",
       "      <td>0.053704</td>\n",
       "      <td>8602.5</td>\n",
       "      <td>1.820</td>\n",
       "      <td>1.0920</td>\n",
       "      <td>5.8800</td>\n",
       "      <td>5.4600</td>\n",
       "      <td>4.1922</td>\n",
       "      <td>2.1210</td>\n",
       "      <td>65.299</td>\n",
       "      <td>10.45330</td>\n",
       "      <td>4.142857</td>\n",
       "      <td>4.410329</td>\n",
       "      <td>5.823097</td>\n",
       "      <td>0</td>\n",
       "      <td>4</td>\n",
       "    </tr>\n",
       "    <tr>\n",
       "      <th>9058</th>\n",
       "      <td>0.36332</td>\n",
       "      <td>6556.8</td>\n",
       "      <td>1946.8</td>\n",
       "      <td>5.75390</td>\n",
       "      <td>0.052281</td>\n",
       "      <td>8603.0</td>\n",
       "      <td>1.820</td>\n",
       "      <td>1.0422</td>\n",
       "      <td>4.8533</td>\n",
       "      <td>5.4600</td>\n",
       "      <td>4.1922</td>\n",
       "      <td>2.1467</td>\n",
       "      <td>65.299</td>\n",
       "      <td>10.13440</td>\n",
       "      <td>4.142857</td>\n",
       "      <td>4.418443</td>\n",
       "      <td>3.237448</td>\n",
       "      <td>0</td>\n",
       "      <td>4</td>\n",
       "    </tr>\n",
       "    <tr>\n",
       "      <th>9059</th>\n",
       "      <td>0.17616</td>\n",
       "      <td>6556.8</td>\n",
       "      <td>1946.7</td>\n",
       "      <td>0.74254</td>\n",
       "      <td>0.009661</td>\n",
       "      <td>8603.5</td>\n",
       "      <td>1.470</td>\n",
       "      <td>1.0422</td>\n",
       "      <td>1.3222</td>\n",
       "      <td>2.4500</td>\n",
       "      <td>2.1700</td>\n",
       "      <td>2.1467</td>\n",
       "      <td>21.614</td>\n",
       "      <td>2.24622</td>\n",
       "      <td>1.125006</td>\n",
       "      <td>4.418443</td>\n",
       "      <td>2.107930</td>\n",
       "      <td>0</td>\n",
       "      <td>4</td>\n",
       "    </tr>\n",
       "    <tr>\n",
       "      <th>9060</th>\n",
       "      <td>0.12284</td>\n",
       "      <td>6556.8</td>\n",
       "      <td>1946.6</td>\n",
       "      <td>0.37909</td>\n",
       "      <td>0.002951</td>\n",
       "      <td>8604.0</td>\n",
       "      <td>1.260</td>\n",
       "      <td>1.0360</td>\n",
       "      <td>1.2600</td>\n",
       "      <td>1.6660</td>\n",
       "      <td>1.5789</td>\n",
       "      <td>1.7500</td>\n",
       "      <td>13.551</td>\n",
       "      <td>0.89440</td>\n",
       "      <td>1.052632</td>\n",
       "      <td>2.188870</td>\n",
       "      <td>1.195376</td>\n",
       "      <td>0</td>\n",
       "      <td>4</td>\n",
       "    </tr>\n",
       "  </tbody>\n",
       "</table>\n",
       "<p>9061 rows × 19 columns</p>\n",
       "</div>"
      ],
      "text/plain": [
       "         frAcc  frRoAcc  frDispl    frRoAng   frSpeed  timeLine  \\\n",
       "0     56.98200   2828.8   3394.9   88.04700  1.106100    3581.0   \n",
       "1     56.98200   2828.9   3410.8  164.91000  1.106100    3581.5   \n",
       "2     19.69000   2828.9   3410.8  228.56000  0.935400    3582.0   \n",
       "3     22.80600   2828.8   3389.3  228.56000  1.196400    3582.5   \n",
       "4     22.80600   2828.5   3312.7  106.98000  1.196400    3583.0   \n",
       "...        ...      ...      ...        ...       ...       ...   \n",
       "9056   0.70001   6556.8   1948.5    6.78380  0.072376    8602.0   \n",
       "9057   0.40442   6556.8   1948.4    6.78380  0.053704    8602.5   \n",
       "9058   0.36332   6556.8   1946.8    5.75390  0.052281    8603.0   \n",
       "9059   0.17616   6556.8   1946.7    0.74254  0.009661    8603.5   \n",
       "9060   0.12284   6556.8   1946.6    0.37909  0.002951    8604.0   \n",
       "\n",
       "      frameRotationalSpeedX  frameRotationalSpeedY  frameRotationalSpeedZ  \\\n",
       "0                    63.945                64.6600                80.7240   \n",
       "1                    63.945                64.6600               165.3400   \n",
       "2                    17.570                19.7400               228.7000   \n",
       "3                    18.984                19.7400               228.7000   \n",
       "4                    18.984                 8.3300               107.7900   \n",
       "...                     ...                    ...                    ...   \n",
       "9056                  2.380                 1.5867                 7.2022   \n",
       "9057                  1.820                 1.0920                 5.8800   \n",
       "9058                  1.820                 1.0422                 4.8533   \n",
       "9059                  1.470                 1.0422                 1.3222   \n",
       "9060                  1.260                 1.0360                 1.2600   \n",
       "\n",
       "      wheelRotationalSpeedX  wheelRotationalSpeedY  wheelRotationalSpeedZ  \\\n",
       "0                  188.8800                61.9500                90.0980   \n",
       "1                  188.8800                86.1860                90.0980   \n",
       "2                   84.7310               193.7800               108.4800   \n",
       "3                  113.6100               193.7800               108.4800   \n",
       "4                  159.6700                86.9870                55.6290   \n",
       "...                     ...                    ...                    ...   \n",
       "9056                 5.6544                 6.6500                 5.1800   \n",
       "9057                 5.4600                 4.1922                 2.1210   \n",
       "9058                 5.4600                 4.1922                 2.1467   \n",
       "9059                 2.4500                 2.1700                 2.1467   \n",
       "9060                 1.6660                 1.5789                 1.7500   \n",
       "\n",
       "      frRoSpeed  Sum_WheelX_FrameZ  Div_FrameZ_WheelX  Filt_WheelX  \\\n",
       "0      3055.300          196.06200         324.758929    87.547693   \n",
       "1      3055.300          196.06200          76.200000    87.547693   \n",
       "2      2456.100          181.33500        1002.057084    65.140780   \n",
       "3      2456.100          218.52000        1002.057084    77.306432   \n",
       "4      1530.100          218.52000         434.736430   114.848074   \n",
       "...         ...                ...                ...          ...   \n",
       "9056     54.922           12.74700           6.545497     4.496939   \n",
       "9057     65.299           10.45330           4.142857     4.410329   \n",
       "9058     65.299           10.13440           4.142857     4.418443   \n",
       "9059     21.614            2.24622           1.125006     4.418443   \n",
       "9060     13.551            0.89440           1.052632     2.188870   \n",
       "\n",
       "      Filt_FrameZ  Collision  Quarter  \n",
       "0       63.582821          0        1  \n",
       "1       73.345130          0        1  \n",
       "2      204.540434          0        1  \n",
       "3      204.540434          0        1  \n",
       "4      204.182064          0        1  \n",
       "...           ...        ...      ...  \n",
       "9056     8.456229          0        4  \n",
       "9057     5.823097          0        4  \n",
       "9058     3.237448          0        4  \n",
       "9059     2.107930          0        4  \n",
       "9060     1.195376          0        4  \n",
       "\n",
       "[9061 rows x 19 columns]"
      ]
     },
     "execution_count": 4,
     "metadata": {},
     "output_type": "execute_result"
    }
   ],
   "source": [
    "df"
   ]
  },
  {
   "cell_type": "code",
   "execution_count": 5,
   "id": "14573311",
   "metadata": {},
   "outputs": [],
   "source": [
    "df['wheelRotationalSpeedXDiff'] = np.insert(np.diff(df.wheelRotationalSpeedX,n=1),0,0)\n",
    "df['frameRotationalSpeedXDiff'] = np.insert(np.diff(df.frameRotationalSpeedX,n=1),0,0)\n",
    "df['frameRotationalSpeedYDiff'] = np.insert(np.diff(df.frameRotationalSpeedY,n=1),0,0)\n",
    "df['frameRotationalSpeedZDiff'] = np.insert(np.diff(df.frameRotationalSpeedZ,n=1),0,0)\n",
    "\n",
    "df['Sum_WheelX_FrameZ'] = df.wheelRotationalSpeedX + df.frameRotationalSpeedZ"
   ]
  },
  {
   "cell_type": "code",
   "execution_count": 6,
   "id": "d5e09283",
   "metadata": {},
   "outputs": [],
   "source": [
    "def rounddown(x):\n",
    "    return(int(math.ceil(x/100.0))*100) - 100"
   ]
  },
  {
   "cell_type": "code",
   "execution_count": 7,
   "id": "7c214ee3",
   "metadata": {},
   "outputs": [
    {
     "name": "stdout",
     "output_type": "stream",
     "text": [
      "[53]\n"
     ]
    }
   ],
   "source": [
    "# split chunk data into train test validate (with colum [sum and Div] as input, and action as output)\n",
    "\n",
    "train = df[df.Quarter != 4]\n",
    "test = df[df.Quarter == 4]\n",
    "\n",
    "column1 = ['frSpeed']\n",
    "column2 = ['frSpeed','frAcc']\n",
    "column3 = ['frSpeed','frAcc','wheelRotationalSpeedXDiff']\n",
    "column4 = ['frSpeed','frAcc','wheelRotationalSpeedXDiff','frRoAcc' ]\n",
    "column5 = ['frSpeed','frAcc','wheelRotationalSpeedX','frRoAcc','frameRotationalSpeedX' ]\n",
    "column6 = ['frSpeed','frAcc','wheelRotationalSpeedXDiff','frRoAcc','frameRotationalSpeedZ','wheelRotationalSpeedX' ]\n",
    "column7 = ['timeLine','frSpeed','frAcc','wheelRotationalSpeedXDiff','frRoAcc','frameRotationalSpeedZ','wheelRotationalSpeedX','Filt_FrameZ' ]\n",
    "column8 = ['frSpeed','frAcc','wheelRotationalSpeedXDiff','frRoAcc','frameRotationalSpeedZ','wheelRotationalSpeedX','Filt_FrameZ','Filt_WheelX' ]\n",
    "column9 = ['wheelRotationalSpeedXDiff']\n",
    "column10 = ['wheelRotationalSpeedXDiff','Filt_WheelX']\n",
    "column11 = ['wheelRotationalSpeedXDiff','Filt_WheelX','Filt_FrameZ']\n",
    "column12 = ['wheelRotationalSpeedXDiff','frSpeed','frAcc','frameRotationalSpeedZ']\n",
    "column13 = ['frAcc','frSpeed','frameRotationalSpeedZ','Sum_WheelX_FrameZ','wheelRotationalSpeedXDiff']\n",
    "column14 = ['timeLine','frSpeed','frAcc','wheelRotationalSpeedXDiff','frRoAcc','frameRotationalSpeedX','frameRotationalSpeedY','frameRotationalSpeedZ','wheelRotationalSpeedX','Filt_FrameZ','frameRotationalSpeedXDiff','frameRotationalSpeedYDiff','frameRotationalSpeedZDiff']\n",
    "\n",
    "column15 = ['frAcc','frameRotationalSpeedX','frameRotationalSpeedY','frameRotationalSpeedZ','wheelRotationalSpeedX']\n",
    "column16 = ['frSpeed','frAcc','frRoAcc','frameRotationalSpeedX','frameRotationalSpeedZ','wheelRotationalSpeedX','Filt_FrameZ']\n",
    "column17 = ['frSpeed','frAcc','frameRotationalSpeedX','frameRotationalSpeedZ','wheelRotationalSpeedX']\n",
    "\n",
    "\n",
    "\n",
    "X_train = train[column17]\n",
    "\n",
    "y_train = train[['Collision']]\n",
    "\n",
    "print(sum(y_train.values))\n",
    "\n",
    "X_test = test[column17]\n",
    "\n",
    "y_test = test[['Collision']]\n"
   ]
  },
  {
   "cell_type": "code",
   "execution_count": null,
   "id": "dacbbf21",
   "metadata": {},
   "outputs": [],
   "source": []
  },
  {
   "cell_type": "code",
   "execution_count": 8,
   "id": "6fff6a42",
   "metadata": {},
   "outputs": [
    {
     "name": "stdout",
     "output_type": "stream",
     "text": [
      "<class 'numpy.ndarray'>\n",
      "<class 'numpy.ndarray'>\n",
      "Training target statistics: Counter({0: 4747, 1: 4747})\n",
      "Testing target statistics: Counter({0: 4207, 1: 54})\n"
     ]
    }
   ],
   "source": [
    "over_sampler = RandomOverSampler(random_state=42)\n",
    "X_res, y_res = over_sampler.fit_resample(X_train, y_train)\n",
    "print(type(y_res['Collision'].values))\n",
    "print(type(y_test['Collision'].values))\n",
    "print(f\"Training target statistics: {Counter(y_res['Collision'].values)}\")\n",
    "print(f\"Testing target statistics: {Counter(y_test['Collision'].values)}\")"
   ]
  },
  {
   "cell_type": "markdown",
   "id": "0343e39a",
   "metadata": {},
   "source": [
    "# Gridsearch toepassen\n"
   ]
  },
  {
   "cell_type": "code",
   "execution_count": 9,
   "id": "43ab3334",
   "metadata": {},
   "outputs": [
    {
     "name": "stderr",
     "output_type": "stream",
     "text": [
      "/tmp/ipykernel_39259/3071229806.py:10: DataConversionWarning: A column-vector y was passed when a 1d array was expected. Please change the shape of y to (n_samples,), for example using ravel().\n",
      "  tree = tree.fit(X_res, y_res)\n"
     ]
    }
   ],
   "source": [
    "\n",
    "tree_model_2 =  RandomForestClassifier(class_weight='balanced',n_jobs = 10, random_state = 6)\n",
    "\n",
    "\n",
    "param_grid_model_2 = {'n_estimators': [100, 200, 500,800], 'max_depth': [10,20,50] ,  'min_samples_leaf': [1,2,5,8,10] } \n",
    "\n",
    "\n",
    "\n",
    "#tree = GridSearchCV(tree_model_2,param_grid_model_2)\n",
    "tree = RandomForestClassifier(class_weight='balanced',n_jobs = 10, random_state = 6, max_depth = 50, min_samples_leaf = 1, n_estimators = 500)\n",
    "tree = tree.fit(X_res, y_res)\n",
    "#print(tree.best_params_)\n",
    "# print(tree.best_score_)\n",
    "# print(\"Test accuracy of best grid search hypers:\", tree.score(X_test, y_test))"
   ]
  },
  {
   "cell_type": "markdown",
   "id": "505a2a3f",
   "metadata": {},
   "source": [
    "# Validate/Tune Model\n",
    "\n",
    "Validate results of the model (Precision/Recall). Tune the parameters of the model to achieve better results"
   ]
  },
  {
   "cell_type": "markdown",
   "id": "4e187fa1",
   "metadata": {},
   "source": []
  },
  {
   "cell_type": "code",
   "execution_count": 10,
   "id": "b45d9ad2",
   "metadata": {},
   "outputs": [
    {
     "name": "stderr",
     "output_type": "stream",
     "text": [
      "/opt/jupyterhub/anaconda/lib/python3.8/site-packages/sklearn/utils/deprecation.py:87: FutureWarning: Function plot_confusion_matrix is deprecated; Function `plot_confusion_matrix` is deprecated in 1.0 and will be removed in 1.2. Use one of the class methods: ConfusionMatrixDisplay.from_predictions or ConfusionMatrixDisplay.from_estimator.\n",
      "  warnings.warn(msg, category=FutureWarning)\n"
     ]
    },
    {
     "data": {
      "image/png": "[encoded data removed]",
      "text/plain": [
       "<Figure size 432x288 with 2 Axes>"
      ]
     },
     "metadata": {
      "needs_background": "light"
     },
     "output_type": "display_data"
    }
   ],
   "source": [
    "#GridsearchCV Polynomials\n",
    "plot_confusion_matrix(tree, X_test, y_test)\n",
    "plt.show()"
   ]
  },
  {
   "cell_type": "code",
   "execution_count": 11,
   "id": "871f8e87",
   "metadata": {},
   "outputs": [],
   "source": [
    "y_pred_test = tree.predict(X_test)"
   ]
  },
  {
   "cell_type": "code",
   "execution_count": 12,
   "id": "538781e0",
   "metadata": {},
   "outputs": [
    {
     "name": "stdout",
     "output_type": "stream",
     "text": [
      "0.9842759915512791\n"
     ]
    }
   ],
   "source": [
    "print(accuracy_score(y_test, y_pred_test))"
   ]
  },
  {
   "cell_type": "code",
   "execution_count": 13,
   "id": "7d56f4e8",
   "metadata": {},
   "outputs": [
    {
     "name": "stdout",
     "output_type": "stream",
     "text": [
      "0.0\n"
     ]
    }
   ],
   "source": [
    "print(precision_score(y_test, y_pred_test))"
   ]
  },
  {
   "cell_type": "code",
   "execution_count": 14,
   "id": "a49e3580",
   "metadata": {},
   "outputs": [
    {
     "name": "stdout",
     "output_type": "stream",
     "text": [
      "0.0\n"
     ]
    }
   ],
   "source": [
    "print(recall_score(y_test, y_pred_test))"
   ]
  },
  {
   "cell_type": "code",
   "execution_count": 15,
   "id": "fa6a349e",
   "metadata": {},
   "outputs": [
    {
     "data": {
      "text/plain": [
       "frSpeed                  0.302814\n",
       "frAcc                    0.246095\n",
       "frameRotationalSpeedX    0.185813\n",
       "wheelRotationalSpeedX    0.162227\n",
       "frameRotationalSpeedZ    0.103051\n",
       "dtype: float64"
      ]
     },
     "execution_count": 15,
     "metadata": {},
     "output_type": "execute_result"
    }
   ],
   "source": [
    "feature_imp = pd.Series(tree.feature_importances_,index=X_train.columns).sort_values(ascending=False)\n",
    "feature_imp"
   ]
  },
  {
   "cell_type": "code",
   "execution_count": 16,
   "id": "2b9d64aa",
   "metadata": {},
   "outputs": [
    {
     "name": "stderr",
     "output_type": "stream",
     "text": [
      "No handles with labels found to put in legend.\n"
     ]
    },
    {
     "data": {
      "image/png": "[encoded data removed]",
      "text/plain": [
       "<Figure size 432x288 with 1 Axes>"
      ]
     },
     "metadata": {
      "needs_background": "light"
     },
     "output_type": "display_data"
    }
   ],
   "source": [
    "sns.barplot(x=feature_imp, y=feature_imp.index)\n",
    "# Add labels to your graph\n",
    "plt.xlabel('Feature Importance Score')\n",
    "plt.ylabel('Features')\n",
    "plt.title(\"Visualizing Important Features\")\n",
    "plt.legend()\n",
    "plt.show()"
   ]
  }
 ],
 "metadata": {
  "kernelspec": {
   "display_name": "Python 3 (ipykernel)",
   "language": "python",
   "name": "python3"
  },
  "language_info": {
   "codemirror_mode": {
    "name": "ipython",
    "version": 3
   },
   "file_extension": ".py",
   "mimetype": "text/x-python",
   "name": "python",
   "nbconvert_exporter": "python",
   "pygments_lexer": "ipython3",
   "version": "3.8.8"
  }
 },
 "nbformat": 4,
 "nbformat_minor": 5
}
